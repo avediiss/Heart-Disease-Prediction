{
 "cells": [
  {
   "cell_type": "code",
   "execution_count": 1,
   "id": "7ea93a74",
   "metadata": {},
   "outputs": [],
   "source": [
    "import ipywidgets as widgets\n",
    "from IPython.display import display\n",
    "text_layout = widgets.Layout(width='300px')\n",
    "style = {'description_width': '100px'}"
   ]
  },
  {
   "cell_type": "code",
   "execution_count": 2,
   "id": "94c09ae5",
   "metadata": {},
   "outputs": [],
   "source": [
    "age = widgets.IntSlider(description= 'Age:',min=29, max=77, style=style)\n",
    "sex = widgets.IntSlider(description= 'Sex:',min=0, max=1, style=style)\n",
    "cp = widgets.IntSlider(description= 'Chest-pain:', min=1, max=4,  style=style)\n",
    "trestbps = widgets.IntSlider(description= 'Resting Blood Pressure:', min=94, max=200, style=style)\n",
    "chol = widgets.IntSlider(description= 'Cholesterol:', min=126, max=564, style=style)\n",
    "fbs = widgets.IntSlider(description= 'Fasting Blood Sugar :', min=0, max=1, style=style)\n",
    "restecg = widgets.IntSlider(description= 'Resting ECG:', min=0, max=2, style=style)\n",
    "thalach = widgets.IntSlider(description= 'Max heart rate achieved:', min=71, max=202, style=style)\n",
    "exang = widgets.IntSlider(description= 'Exercise induced angina:', min=0, max=1, style=style)\n",
    "oldpeak = widgets.FloatText(description= 'Oldpeak:', layout=text_layout, style=style)\n",
    "slope = widgets.IntSlider(description= 'Slope:', min=1, max=3, style=style)\n",
    "ca = widgets.FloatText(description= 'Number of major vessels :', layout=text_layout, style=style)\n",
    "thal = widgets.FloatText(description= 'thalassemia:', layout=text_layout, style=style)"
   ]
  },
  {
   "cell_type": "code",
   "execution_count": 3,
   "id": "444cad3c",
   "metadata": {
    "scrolled": false
   },
   "outputs": [
    {
     "data": {
      "application/vnd.jupyter.widget-view+json": {
       "model_id": "fc350ef5a127419d93c003a838ea9052",
       "version_major": 2,
       "version_minor": 0
      },
      "text/plain": [
       "IntSlider(value=29, description='Age:', max=77, min=29, style=SliderStyle(description_width='100px'))"
      ]
     },
     "metadata": {},
     "output_type": "display_data"
    },
    {
     "data": {
      "application/vnd.jupyter.widget-view+json": {
       "model_id": "0b13d60e850e42a5b434e1706668ee2b",
       "version_major": 2,
       "version_minor": 0
      },
      "text/plain": [
       "IntSlider(value=0, description='Sex:', max=1, style=SliderStyle(description_width='100px'))"
      ]
     },
     "metadata": {},
     "output_type": "display_data"
    },
    {
     "data": {
      "application/vnd.jupyter.widget-view+json": {
       "model_id": "c4f7295f7132493fac9b1b83213eecc5",
       "version_major": 2,
       "version_minor": 0
      },
      "text/plain": [
       "IntSlider(value=1, description='Chest-pain:', max=4, min=1, style=SliderStyle(description_width='100px'))"
      ]
     },
     "metadata": {},
     "output_type": "display_data"
    },
    {
     "data": {
      "application/vnd.jupyter.widget-view+json": {
       "model_id": "57a493947d494defb600b45073f40fe7",
       "version_major": 2,
       "version_minor": 0
      },
      "text/plain": [
       "IntSlider(value=94, description='Resting Blood Pressure:', max=200, min=94, style=SliderStyle(description_widt…"
      ]
     },
     "metadata": {},
     "output_type": "display_data"
    },
    {
     "data": {
      "application/vnd.jupyter.widget-view+json": {
       "model_id": "edde48c263c4459390e8ebcedaa9f581",
       "version_major": 2,
       "version_minor": 0
      },
      "text/plain": [
       "IntSlider(value=126, description='Cholesterol:', max=564, min=126, style=SliderStyle(description_width='100px'…"
      ]
     },
     "metadata": {},
     "output_type": "display_data"
    },
    {
     "data": {
      "application/vnd.jupyter.widget-view+json": {
       "model_id": "4f9866544ec24ef4b8d7410c71523aa8",
       "version_major": 2,
       "version_minor": 0
      },
      "text/plain": [
       "IntSlider(value=0, description='Fasting Blood Sugar :', max=1, style=SliderStyle(description_width='100px'))"
      ]
     },
     "metadata": {},
     "output_type": "display_data"
    },
    {
     "data": {
      "application/vnd.jupyter.widget-view+json": {
       "model_id": "2f833464ba3e4cac8fb1943197e366fa",
       "version_major": 2,
       "version_minor": 0
      },
      "text/plain": [
       "IntSlider(value=0, description='Resting ECG:', max=2, style=SliderStyle(description_width='100px'))"
      ]
     },
     "metadata": {},
     "output_type": "display_data"
    },
    {
     "data": {
      "application/vnd.jupyter.widget-view+json": {
       "model_id": "af7d04d66eea4e7598bab3c14b391a23",
       "version_major": 2,
       "version_minor": 0
      },
      "text/plain": [
       "IntSlider(value=71, description='Max heart rate achieved:', max=202, min=71, style=SliderStyle(description_wid…"
      ]
     },
     "metadata": {},
     "output_type": "display_data"
    },
    {
     "data": {
      "application/vnd.jupyter.widget-view+json": {
       "model_id": "99b75ac3680f4da09f8b8915608f1286",
       "version_major": 2,
       "version_minor": 0
      },
      "text/plain": [
       "IntSlider(value=0, description='Exercise induced angina:', max=1, style=SliderStyle(description_width='100px')…"
      ]
     },
     "metadata": {},
     "output_type": "display_data"
    },
    {
     "data": {
      "application/vnd.jupyter.widget-view+json": {
       "model_id": "a45b0c5f3cf84540a7fa30d1a8cfa3f5",
       "version_major": 2,
       "version_minor": 0
      },
      "text/plain": [
       "FloatText(value=0.0, description='Oldpeak:', layout=Layout(width='300px'), style=DescriptionStyle(description_…"
      ]
     },
     "metadata": {},
     "output_type": "display_data"
    },
    {
     "data": {
      "application/vnd.jupyter.widget-view+json": {
       "model_id": "7759fc6bdb5344b6905f85bb98769779",
       "version_major": 2,
       "version_minor": 0
      },
      "text/plain": [
       "IntSlider(value=1, description='Slope:', max=3, min=1, style=SliderStyle(description_width='100px'))"
      ]
     },
     "metadata": {},
     "output_type": "display_data"
    },
    {
     "data": {
      "application/vnd.jupyter.widget-view+json": {
       "model_id": "576afe138bf945f5ae198846f2ee608a",
       "version_major": 2,
       "version_minor": 0
      },
      "text/plain": [
       "FloatText(value=0.0, description='Number of major vessels :', layout=Layout(width='300px'), style=DescriptionS…"
      ]
     },
     "metadata": {},
     "output_type": "display_data"
    },
    {
     "data": {
      "application/vnd.jupyter.widget-view+json": {
       "model_id": "b00a3258f540458b90e6719195e24f07",
       "version_major": 2,
       "version_minor": 0
      },
      "text/plain": [
       "FloatText(value=0.0, description='thalassemia:', layout=Layout(width='300px'), style=DescriptionStyle(descript…"
      ]
     },
     "metadata": {},
     "output_type": "display_data"
    },
    {
     "data": {
      "application/vnd.jupyter.widget-view+json": {
       "model_id": "52892266c3f445d8922a6f1aad30c484",
       "version_major": 2,
       "version_minor": 0
      },
      "text/plain": [
       "Button(description='Predict', style=ButtonStyle())"
      ]
     },
     "metadata": {},
     "output_type": "display_data"
    },
    {
     "data": {
      "application/vnd.jupyter.widget-view+json": {
       "model_id": "c84d664adfdf43bf80fe90fea501721e",
       "version_major": 2,
       "version_minor": 0
      },
      "text/plain": [
       "Output()"
      ]
     },
     "metadata": {},
     "output_type": "display_data"
    }
   ],
   "source": [
    "predict_button = widgets.Button(description = 'Predict')\n",
    "output = widgets.Output()\n",
    "display(age, sex, cp, trestbps, chol,\n",
    "              fbs, restecg, thalach, exang, \n",
    "              oldpeak, slope, ca, thal, predict_button, output)\n",
    "\n",
    "#34\t0\t1\t118\t210\t0\t1\t192\t0\t0.7\t2\t0\t2\t1"
   ]
  },
  {
   "cell_type": "code",
   "execution_count": 4,
   "id": "86713859",
   "metadata": {},
   "outputs": [
    {
     "name": "stdout",
     "output_type": "stream",
     "text": [
      "Requirement already satisfied: ipywidgets in /Users/avediss/anaconda3/lib/python3.11/site-packages (8.0.4)\n",
      "Requirement already satisfied: ipykernel>=4.5.1 in /Users/avediss/anaconda3/lib/python3.11/site-packages (from ipywidgets) (6.19.2)\n",
      "Requirement already satisfied: ipython>=6.1.0 in /Users/avediss/anaconda3/lib/python3.11/site-packages (from ipywidgets) (8.12.0)\n",
      "Requirement already satisfied: traitlets>=4.3.1 in /Users/avediss/anaconda3/lib/python3.11/site-packages (from ipywidgets) (5.7.1)\n",
      "Requirement already satisfied: widgetsnbextension~=4.0 in /Users/avediss/anaconda3/lib/python3.11/site-packages (from ipywidgets) (4.0.5)\n",
      "Requirement already satisfied: jupyterlab-widgets~=3.0 in /Users/avediss/anaconda3/lib/python3.11/site-packages (from ipywidgets) (3.0.5)\n",
      "Requirement already satisfied: appnope in /Users/avediss/anaconda3/lib/python3.11/site-packages (from ipykernel>=4.5.1->ipywidgets) (0.1.2)\n",
      "Requirement already satisfied: comm>=0.1.1 in /Users/avediss/anaconda3/lib/python3.11/site-packages (from ipykernel>=4.5.1->ipywidgets) (0.1.2)\n",
      "Requirement already satisfied: debugpy>=1.0 in /Users/avediss/anaconda3/lib/python3.11/site-packages (from ipykernel>=4.5.1->ipywidgets) (1.6.7)\n",
      "Requirement already satisfied: jupyter-client>=6.1.12 in /Users/avediss/anaconda3/lib/python3.11/site-packages (from ipykernel>=4.5.1->ipywidgets) (7.4.9)\n",
      "Requirement already satisfied: matplotlib-inline>=0.1 in /Users/avediss/anaconda3/lib/python3.11/site-packages (from ipykernel>=4.5.1->ipywidgets) (0.1.6)\n",
      "Requirement already satisfied: nest-asyncio in /Users/avediss/anaconda3/lib/python3.11/site-packages (from ipykernel>=4.5.1->ipywidgets) (1.5.6)\n",
      "Requirement already satisfied: packaging in /Users/avediss/anaconda3/lib/python3.11/site-packages (from ipykernel>=4.5.1->ipywidgets) (23.0)\n",
      "Requirement already satisfied: psutil in /Users/avediss/anaconda3/lib/python3.11/site-packages (from ipykernel>=4.5.1->ipywidgets) (5.9.0)\n",
      "Requirement already satisfied: pyzmq>=17 in /Users/avediss/anaconda3/lib/python3.11/site-packages (from ipykernel>=4.5.1->ipywidgets) (23.2.0)\n",
      "Requirement already satisfied: tornado>=6.1 in /Users/avediss/anaconda3/lib/python3.11/site-packages (from ipykernel>=4.5.1->ipywidgets) (6.3.2)\n",
      "Requirement already satisfied: backcall in /Users/avediss/anaconda3/lib/python3.11/site-packages (from ipython>=6.1.0->ipywidgets) (0.2.0)\n",
      "Requirement already satisfied: decorator in /Users/avediss/anaconda3/lib/python3.11/site-packages (from ipython>=6.1.0->ipywidgets) (5.1.1)\n",
      "Requirement already satisfied: jedi>=0.16 in /Users/avediss/anaconda3/lib/python3.11/site-packages (from ipython>=6.1.0->ipywidgets) (0.18.1)\n",
      "Requirement already satisfied: pickleshare in /Users/avediss/anaconda3/lib/python3.11/site-packages (from ipython>=6.1.0->ipywidgets) (0.7.5)\n",
      "Requirement already satisfied: prompt-toolkit!=3.0.37,<3.1.0,>=3.0.30 in /Users/avediss/anaconda3/lib/python3.11/site-packages (from ipython>=6.1.0->ipywidgets) (3.0.36)\n",
      "Requirement already satisfied: pygments>=2.4.0 in /Users/avediss/anaconda3/lib/python3.11/site-packages (from ipython>=6.1.0->ipywidgets) (2.15.1)\n",
      "Requirement already satisfied: stack-data in /Users/avediss/anaconda3/lib/python3.11/site-packages (from ipython>=6.1.0->ipywidgets) (0.2.0)\n",
      "Requirement already satisfied: pexpect>4.3 in /Users/avediss/anaconda3/lib/python3.11/site-packages (from ipython>=6.1.0->ipywidgets) (4.8.0)\n",
      "Requirement already satisfied: parso<0.9.0,>=0.8.0 in /Users/avediss/anaconda3/lib/python3.11/site-packages (from jedi>=0.16->ipython>=6.1.0->ipywidgets) (0.8.3)\n",
      "Requirement already satisfied: entrypoints in /Users/avediss/anaconda3/lib/python3.11/site-packages (from jupyter-client>=6.1.12->ipykernel>=4.5.1->ipywidgets) (0.4)\n",
      "Requirement already satisfied: jupyter-core>=4.9.2 in /Users/avediss/anaconda3/lib/python3.11/site-packages (from jupyter-client>=6.1.12->ipykernel>=4.5.1->ipywidgets) (5.3.0)\n",
      "Requirement already satisfied: python-dateutil>=2.8.2 in /Users/avediss/anaconda3/lib/python3.11/site-packages (from jupyter-client>=6.1.12->ipykernel>=4.5.1->ipywidgets) (2.8.2)\n",
      "Requirement already satisfied: ptyprocess>=0.5 in /Users/avediss/anaconda3/lib/python3.11/site-packages (from pexpect>4.3->ipython>=6.1.0->ipywidgets) (0.7.0)\n",
      "Requirement already satisfied: wcwidth in /Users/avediss/anaconda3/lib/python3.11/site-packages (from prompt-toolkit!=3.0.37,<3.1.0,>=3.0.30->ipython>=6.1.0->ipywidgets) (0.2.5)\n",
      "Requirement already satisfied: executing in /Users/avediss/anaconda3/lib/python3.11/site-packages (from stack-data->ipython>=6.1.0->ipywidgets) (0.8.3)\n",
      "Requirement already satisfied: asttokens in /Users/avediss/anaconda3/lib/python3.11/site-packages (from stack-data->ipython>=6.1.0->ipywidgets) (2.0.5)\n",
      "Requirement already satisfied: pure-eval in /Users/avediss/anaconda3/lib/python3.11/site-packages (from stack-data->ipython>=6.1.0->ipywidgets) (0.2.2)\n",
      "Requirement already satisfied: platformdirs>=2.5 in /Users/avediss/anaconda3/lib/python3.11/site-packages (from jupyter-core>=4.9.2->jupyter-client>=6.1.12->ipykernel>=4.5.1->ipywidgets) (2.5.2)\n",
      "Requirement already satisfied: six>=1.5 in /Users/avediss/anaconda3/lib/python3.11/site-packages (from python-dateutil>=2.8.2->jupyter-client>=6.1.12->ipykernel>=4.5.1->ipywidgets) (1.16.0)\n",
      "Note: you may need to restart the kernel to use updated packages.\n"
     ]
    }
   ],
   "source": [
    "pip install ipywidgets"
   ]
  },
  {
   "cell_type": "code",
   "execution_count": 5,
   "id": "0776c7e7",
   "metadata": {},
   "outputs": [],
   "source": [
    "import requests\n",
    "\n",
    "def on_predict_button_clicked(b):\n",
    "    '''Function to predict if the patient has a heart disease or not'''\n",
    "    features = [\n",
    "        int(age.value),\n",
    "        int(sex.value),\n",
    "        int(cp.value),\n",
    "        int(trestbps.value),\n",
    "        int(chol.value),\n",
    "        int(fbs.value),\n",
    "        int(restecg.value),\n",
    "        int(thalach.value),\n",
    "        int(exang.value),\n",
    "        float(oldpeak.value),\n",
    "        int(slope.value),\n",
    "        float(ca.value),\n",
    "        float(thal.value),\n",
    "    ]\n",
    "    \n",
    "    url = 'http://127.0.0.1:5000/predict'\n",
    "    \n",
    "    data = {'features': features}\n",
    "    print(f\"Sending data to server: {data}\")  # Debugging line\n",
    "    \n",
    "    response = requests.post(url, json=data)\n",
    "    print(f\"Received response from server: {response.json()}\")  # Debugging line\n",
    "    \n",
    "    predicted_heart = response.json().get('prediction', None)\n",
    "    \n",
    "    with output:\n",
    "        output.clear_output()\n",
    "        if predicted_heart == 1:\n",
    "            print('The patient has heart disease.')\n",
    "        else:\n",
    "            print('The patient does not have heart disease.')\n",
    "\n",
    "predict_button.on_click(on_predict_button_clicked)"
   ]
  },
  {
   "cell_type": "code",
   "execution_count": null,
   "id": "83e015dc",
   "metadata": {},
   "outputs": [],
   "source": []
  },
  {
   "cell_type": "code",
   "execution_count": null,
   "id": "3f9f4569",
   "metadata": {},
   "outputs": [],
   "source": []
  },
  {
   "cell_type": "code",
   "execution_count": null,
   "id": "7e58f3f2",
   "metadata": {},
   "outputs": [],
   "source": []
  }
 ],
 "metadata": {
  "kernelspec": {
   "display_name": "Python 3 (ipykernel)",
   "language": "python",
   "name": "python3"
  },
  "language_info": {
   "codemirror_mode": {
    "name": "ipython",
    "version": 3
   },
   "file_extension": ".py",
   "mimetype": "text/x-python",
   "name": "python",
   "nbconvert_exporter": "python",
   "pygments_lexer": "ipython3",
   "version": "3.11.4"
  }
 },
 "nbformat": 4,
 "nbformat_minor": 5
}
